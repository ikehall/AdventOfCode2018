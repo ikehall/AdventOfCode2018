{
 "cells": [
  {
   "cell_type": "code",
   "execution_count": 5,
   "metadata": {},
   "outputs": [],
   "source": [
    "#Many of these prep functions have been found around the web and/or borrowed from https://nbviewer.jupyter.org/url/norvig.com/ipython/Advent%20of%20Code.ipynb\n",
    "\n",
    "# Python 3.x\n",
    "import re\n",
    "import numpy as np\n",
    "import math\n",
    "import urllib.request\n",
    "\n",
    "from collections import Counter, defaultdict, namedtuple, deque\n",
    "from functools   import lru_cache\n",
    "from itertools   import permutations, combinations, chain, cycle, product, islice\n",
    "from heapq       import heappop, heappush\n",
    "\n",
    "def Input(day):\n",
    "    \"Open this day's input file.\"\n",
    "    filename = '/home/isaac/AdventOfCode2018/day{}.txt'.format(day)\n",
    "    return open(filename)\n",
    "    \n",
    "def input_lines(day):\n",
    "    fobj = Input(day)\n",
    "    lines = fobj.readlines()\n",
    "    fobj.close()\n",
    "    return lines\n",
    "\n",
    "def transpose(matrix): return zip(*matrix)\n",
    "\n",
    "def first(iterable): return next(iter(iterable))\n",
    "\n",
    "def nth(iterable, n, default=None):\n",
    "    \"Returns the nth item of iterable, or a default value\"\n",
    "    return next(islice(iterable, n, None), default)\n",
    "\n",
    "cat = ''.join\n",
    "\n",
    "Ø   = frozenset() # Empty set\n",
    "inf = float('inf')\n",
    "BIG = 10 ** 999\n",
    "\n",
    "def grep(pattern, lines):\n",
    "    \"Print lines that match pattern.\"\n",
    "    for line in lines:\n",
    "        if re.search(pattern, line):\n",
    "            print(line)\n",
    "            \n",
    "def gengrep(pattern, lines):\n",
    "    patc = re.compile(pattern)\n",
    "    return (line for line in lines if patc.search(line))\n",
    "\n",
    "def groupby(iterable, key=lambda it: it):\n",
    "    \"Return a dic whose keys are key(it) and whose values are all the elements of iterable with that key.\"\n",
    "    dic = defaultdict(list)\n",
    "    for it in iterable:\n",
    "        dic[key(it)].append(it)\n",
    "    return dic\n",
    "\n",
    "def powerset(iterable):\n",
    "    \"Yield all subsets of items.\"\n",
    "    items = list(iterable)\n",
    "    for r in range(len(items)+1):\n",
    "        for c in combinations(items, r):\n",
    "            yield c\n",
    "\n",
    "# 2-D points implemented using (x, y) tuples\n",
    "def X(point): return point[0]\n",
    "def Y(point): return point[1]\n",
    "\n",
    "def neighbors4(point): \n",
    "    \"The four neighbors (without diagonals).\"\n",
    "    x, y = point\n",
    "    return ((x+1, y), (x-1, y), (x, y+1), (x, y-1))\n",
    "\n",
    "def neighbors8(point): \n",
    "    \"The eight neighbors (with diagonals).\"\n",
    "    x, y = point \n",
    "    return ((x+1, y), (x-1, y), (x, y+1), (x, y-1),\n",
    "            (X+1, y+1), (x-1, y-1), (x+1, y-1), (x-1, y+1))\n",
    "\n",
    "def cityblock_distance(p, q=(0, 0)): \n",
    "    \"City block distance between two points.\"\n",
    "    return abs(X(p) - X(q)) + abs(Y(p) - Y(q))\n",
    "\n",
    "def euclidean_distance(p, q=(0, 0)): \n",
    "    \"Euclidean (hypotenuse) distance between two points.\"\n",
    "    return math.hypot(X(p) - X(q), Y(p) - Y(q))\n",
    "\n",
    "def trace1(f):\n",
    "    \"Print a trace of the input and output of a function on one line.\"\n",
    "    def traced_f(*args):\n",
    "        result = f(*args)\n",
    "        print('{}({}) = {}'.format(f.__name__, ', '.join(map(str, args)), result))\n",
    "        return result\n",
    "    return traced_f\n",
    "\n",
    "def astar_search(start, h_func, moves_func):\n",
    "    \"Find a shortest sequence of states from start to a goal state (a state s with h_func(s) == 0).\"\n",
    "    frontier  = [(h_func(start), start)] # A priority queue, ordered by path length, f = g + h\n",
    "    previous  = {start: None}  # start state has no previous state; other states will\n",
    "    path_cost = {start: 0}     # The cost of the best path to a state.\n",
    "    while frontier:\n",
    "        (f, s) = heappop(frontier)\n",
    "        if h_func(s) == 0:\n",
    "            return Path(previous, s)\n",
    "        for s2 in moves_func(s):\n",
    "            new_cost = path_cost[s] + 1\n",
    "            if s2 not in path_cost or new_cost < path_cost[s2]:\n",
    "                heappush(frontier, (new_cost + h_func(s2), s2))\n",
    "                path_cost[s2] = new_cost\n",
    "                previous[s2] = s\n",
    "    return dict(fail=True, front=len(frontier), prev=len(previous))\n",
    "                \n",
    "def Path(previous, s): \n",
    "    \"Return a list of states that lead to state s, according to the previous dict.\"\n",
    "    return ([] if (s is None) else Path(previous, previous[s]) + [s])"
   ]
  },
  {
   "cell_type": "code",
   "execution_count": 6,
   "metadata": {},
   "outputs": [
    {
     "data": {
      "text/plain": [
       "425"
      ]
     },
     "execution_count": 6,
     "metadata": {},
     "output_type": "execute_result"
    }
   ],
   "source": [
    "#day1 part 1 \n",
    "#Simply sum all the lines of the input\n",
    "sum((int(l.strip()) for l in input_lines(1)))"
   ]
  },
  {
   "cell_type": "code",
   "execution_count": 30,
   "metadata": {},
   "outputs": [
    {
     "name": "stdout",
     "output_type": "stream",
     "text": [
      "57538\n",
      "57521\n"
     ]
    }
   ],
   "source": [
    "#day1 part2\n",
    "#Do the same as in part 1, but keep a running list of intermediate values\n",
    "#find the first value to be reached twice\n",
    "input_generator = cycle(int(l.strip()) for l in input_lines(1))\n",
    "visited = [0]\n",
    "for iv in input_generator:\n",
    "    nxt = visited[-1]+iv\n",
    "    if nxt in visited:\n",
    "        break\n",
    "    visited.append(nxt)\n",
    "print(nxt)\n",
    "print(visited[-1])"
   ]
  },
  {
   "cell_type": "code",
   "execution_count": 39,
   "metadata": {},
   "outputs": [
    {
     "data": {
      "text/plain": [
       "5928"
      ]
     },
     "execution_count": 39,
     "metadata": {},
     "output_type": "execute_result"
    }
   ],
   "source": [
    "#day2 part1\n",
    "#Count the number of strings that have any letter appearing exactly three times\n",
    "#Count the number of strings that have any letter appearing exactly two times\n",
    "#multiply those numbers to get answer\n",
    "lines = input_lines(2)\n",
    "g1 = (Counter(l) for l in lines)\n",
    "g2 = (Counter(l) for l in lines)\n",
    "threes = sum(1 for x in g1 if 3 in x.values())\n",
    "twos = sum(1 for x in g2 if 2 in x.values())\n",
    "threes*twos"
   ]
  },
  {
   "cell_type": "code",
   "execution_count": 55,
   "metadata": {},
   "outputs": [
    {
     "name": "stdout",
     "output_type": "stream",
     "text": [
      "bqlporuexkwzyabnmgjqctvfs\n",
      "\n"
     ]
    }
   ],
   "source": [
    "#day2 part2\n",
    "#find the ids that differ by only one letter in the same position\n",
    "lines = input_lines(2)\n",
    "def nletterdiff(s1, s2):\n",
    "    return sum(1 for l1,l2 in zip(s1,s2) if l1!=l2)\n",
    "def find_nearest_match(lns):\n",
    "    for c in combinations(lns, 2):\n",
    "        if nletterdiff(*c)==1:\n",
    "            return c\n",
    "def remove_differing_letter(s1,s2):\n",
    "     return cat(l1 for l1,l2 in zip(s1,s2) if l1==l2)\n",
    "print(remove_differing_letter(*find_nearest_match(lines)))\n",
    "            "
   ]
  },
  {
   "cell_type": "code",
   "execution_count": 58,
   "metadata": {},
   "outputs": [
    {
     "data": {
      "text/plain": [
       "115242"
      ]
     },
     "execution_count": 58,
     "metadata": {},
     "output_type": "execute_result"
    }
   ],
   "source": [
    "#day3 part1\n",
    "#find number of square inches in rectangles that are claimed by more than one sub-rectangle\n",
    "lines = input_lines(3)\n",
    "def process_line(line):\n",
    "    id, _, a, b = line.strip().split()\n",
    "    min_x, min_y = map(int, a.strip(':').split(','))\n",
    "    sz_x, sz_y = map(int, b.split('x'))\n",
    "    return id, min_x, min_y, min_x+sz_x, min_y+sz_y\n",
    "def find_max_dimensions(lns):\n",
    "    maxx = 0\n",
    "    maxy = 0\n",
    "    for line in lns:\n",
    "        *_, max_x, max_y = process_line(line)\n",
    "        maxx = max_x if max_x>maxx else maxx\n",
    "        maxy = max_y if max_y>maxy else maxy\n",
    "    return maxx, maxy\n",
    "def claim_matrix(lns):\n",
    "    fabric = np.zeros(find_max_dimensions(lns), dtype='int')\n",
    "    for id, min_x, min_y, max_x, max_y in map(process_line, lns):\n",
    "        fabric[min_x:max_x, min_y:max_y]+=1\n",
    "    return fabric\n",
    "def n_overlap(lns):\n",
    "    mtx = claim_matrix(lns)\n",
    "    return np.sum(mtx>1)\n",
    "n_overlap(lines)"
   ]
  },
  {
   "cell_type": "code",
   "execution_count": 60,
   "metadata": {},
   "outputs": [
    {
     "data": {
      "text/plain": [
       "'#1046'"
      ]
     },
     "execution_count": 60,
     "metadata": {},
     "output_type": "execute_result"
    }
   ],
   "source": [
    "#day3 part2\n",
    "#Find the claim that does not overlap any others\n",
    "#Can do only two iterations by building the claim matrix, then checking each claim against the matrix\n",
    "lines = input_lines(3)\n",
    "def is_unique(sub_matrix):\n",
    "    return np.product(sub_matrix.shape) == np.sum(sub_matrix)\n",
    "def find_unique_claim(lns):\n",
    "    mtx = claim_matrix(lns)\n",
    "    for id, min_x, min_y, max_x, max_y in map(process_line, lns):\n",
    "        if is_unique(mtx[min_x:max_x, min_y:max_y]):\n",
    "            return id\n",
    "find_unique_claim(lines)"
   ]
  },
  {
   "cell_type": "code",
   "execution_count": 69,
   "metadata": {},
   "outputs": [
    {
     "data": {
      "text/plain": [
       "(641, 498.0, 41, 26281)"
      ]
     },
     "execution_count": 69,
     "metadata": {},
     "output_type": "execute_result"
    }
   ],
   "source": [
    "#day4 part1\n",
    "#Sort Entries\n",
    "#Find guard with most minutes slept, and minute with most sleep.\n",
    "lines4 = input_lines(4)\n",
    "import datetime\n",
    "def process_lines(lns):\n",
    "    fmtstring = '%Y-%m-%d %H:%M'\n",
    "    return sorted([(datetime.datetime.strptime(l.split(']')[0].strip('['), fmtstring), \n",
    "                    l.split(']')[1].strip().rstrip()) for l in lns],\n",
    "                  key=lambda x: x[0])\n",
    "process_lines(lines4)\n",
    "\n",
    "def guard_records(lns):\n",
    "    sorted_lines = process_lines(lns)\n",
    "    guards = defaultdict(list)\n",
    "    current_guard = 0\n",
    "    for time, event in sorted_lines:\n",
    "        if 'begins shift' in event:\n",
    "            current_guard = int(event.split()[1].strip('#'))\n",
    "        guards[current_guard].append((time, event))\n",
    "    return guards\n",
    "            \n",
    "def minutes_asleep_counter(guard_rec):\n",
    "    counter = np.zeros(60)\n",
    "    awake = True\n",
    "    asleep=0\n",
    "    for time, event in guard_rec:\n",
    "        if 'begins shift' in event:\n",
    "            awake=True\n",
    "            asleep = 0\n",
    "        elif event=='falls asleep':\n",
    "            awake=False\n",
    "            asleep = time.minute\n",
    "        elif event == 'wakes up':\n",
    "            awake=True\n",
    "            counter[asleep:time.minute] += 1\n",
    "    return counter\n",
    "\n",
    "def guard_counters(lns):\n",
    "    records = guard_records(lns)\n",
    "    #grds = {}\n",
    "    max_asleep = 0\n",
    "    max_minute = 0\n",
    "    max_guard = 0\n",
    "    for guard, record in records.items():\n",
    "        ctr = minutes_asleep_counter(record)\n",
    "        asleep = np.sum(ctr)\n",
    "        if asleep > max_asleep:\n",
    "            max_asleep = asleep\n",
    "            max_minute = np.argmax(ctr)\n",
    "            max_guard = guard\n",
    "        #grds[guard] = {'asleep':asleep, 'minute':np.argmax(ctr)}\n",
    "    return max_guard, max_asleep, max_minute, max_guard*max_minute\n",
    "guard_counters(lines4)"
   ]
  },
  {
   "cell_type": "code",
   "execution_count": 87,
   "metadata": {},
   "outputs": [
    {
     "name": "stdout",
     "output_type": "stream",
     "text": [
      "73001\n"
     ]
    }
   ],
   "source": [
    "#day4 part2\n",
    "def guard_counters2(lns):\n",
    "    records = guard_records(lns)\n",
    "    grds = {}\n",
    "    for guard, record in records.items():\n",
    "        grds[guard] = minutes_asleep_counter(record)\n",
    "    return grds\n",
    "\n",
    "def strategy2(counter_dict):\n",
    "    guards, minute_counters = list(zip(*counter_dict.items()))\n",
    "    minute_matrix = np.array(minute_counters)\n",
    "    \n",
    "    #return guards, minute_matrix.shape, np.max(minute_matrix, axis=1), np.argwhere(minute_matrix>=np.max(minute_matrix))\n",
    "    gd, min = tuple(np.argwhere(minute_matrix>=np.max(minute_matrix))[0])\n",
    "    return guards[gd]*min\n",
    "ctrs = guard_counters2(lines4)\n",
    "print(strategy2(ctrs))"
   ]
  },
  {
   "cell_type": "code",
   "execution_count": 119,
   "metadata": {
    "scrolled": true
   },
   "outputs": [
    {
     "data": {
      "text/plain": [
       "11540"
      ]
     },
     "execution_count": 119,
     "metadata": {},
     "output_type": "execute_result"
    }
   ],
   "source": [
    "#day5 part1:\n",
    "#process polymer(string)\n",
    "#rules:\n",
    "#If two adjacent letters are equal with opposite polarization, they annhilate\n",
    "#iterate with this rule until no more pairs of letters with equal and opposite polarization exist\n",
    "\n",
    "def find_all_pairs(strng):\n",
    "    pair_locs = []\n",
    "    last_ch = ''\n",
    "    for i, ch in enumerate(strng):\n",
    "        if ch.upper()==last_ch.upper() and last_ch.isupper()+ch.isupper()==1:\n",
    "            if len(pair_locs)==0 or i != pair_locs[-1]+1:\n",
    "                pair_locs.append(i)\n",
    "        last_ch = ch\n",
    "    return pair_locs\n",
    "\n",
    "def remove_pairs(strng, pair_list):\n",
    "    if len(pair_list)==0:\n",
    "        return strng\n",
    "    lst = [strng[:pair_list[0]-1]]\n",
    "    last_index = pair_list[0]\n",
    "    try:\n",
    "        for index in pair_list[1:]:\n",
    "            lst.append(strng[last_index+1:index-1])\n",
    "            last_index=index\n",
    "    except IndexError:\n",
    "        pass\n",
    "    lst.append(strng[last_index+1:])\n",
    "    return cat(lst)\n",
    "\n",
    "def react_all(strng):\n",
    "    last_string = strng\n",
    "    newstring = ''\n",
    "    while True:\n",
    "        pairs = find_all_pairs(last_string)\n",
    "        newstring = remove_pairs(last_string, pairs)\n",
    "        if newstring==last_string:\n",
    "            return len(newstring)\n",
    "        last_string=newstring\n",
    "        \n",
    "line5 = input_lines(5)[0].strip()\n",
    "react_all(line5)"
   ]
  },
  {
   "cell_type": "code",
   "execution_count": 120,
   "metadata": {},
   "outputs": [
    {
     "data": {
      "text/plain": [
       "6918"
      ]
     },
     "execution_count": 120,
     "metadata": {},
     "output_type": "execute_result"
    }
   ],
   "source": [
    "#day5 part 2\n",
    "#try 26 different versions.  In each, remove all instances of upper and lower versions of a single letter,\n",
    "#then react the new string\n",
    "#find the length of the shortest new string\n",
    "import string\n",
    "\n",
    "def remove_all(strng, unit):\n",
    "    return strng.replace(unit.lower(),'').replace(unit.upper(),'')\n",
    "\n",
    "def find_shortest_fixed(strng):\n",
    "    min_len = len(strng)\n",
    "    for unit in string.ascii_lowercase:\n",
    "        test_strng = remove_all(strng, unit)\n",
    "        newl = react_all(test_strng)\n",
    "        min_len = newl if newl < min_len else min_len\n",
    "    return min_len\n",
    "\n",
    "find_shortest_fixed(line5)"
   ]
  },
  {
   "cell_type": "code",
   "execution_count": null,
   "metadata": {},
   "outputs": [],
   "source": []
  }
 ],
 "metadata": {
  "kernelspec": {
   "display_name": "Python 3",
   "language": "python",
   "name": "python3"
  },
  "language_info": {
   "codemirror_mode": {
    "name": "ipython",
    "version": 3
   },
   "file_extension": ".py",
   "mimetype": "text/x-python",
   "name": "python",
   "nbconvert_exporter": "python",
   "pygments_lexer": "ipython3",
   "version": "3.5.5"
  }
 },
 "nbformat": 4,
 "nbformat_minor": 1
}
